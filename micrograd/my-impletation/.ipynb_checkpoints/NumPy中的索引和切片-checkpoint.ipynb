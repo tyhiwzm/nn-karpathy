{
 "cells": [
  {
   "cell_type": "code",
   "execution_count": 2,
   "id": "26727f36-f174-4f66-82f8-64a8648a0ec8",
   "metadata": {},
   "outputs": [
    {
     "data": {
      "text/plain": [
       "list"
      ]
     },
     "execution_count": 2,
     "metadata": {},
     "output_type": "execute_result"
    }
   ],
   "source": [
    "type([0, 2, 4.0, 6, 8, 10, 12, \"1\"]) # python中[]是list类型"
   ]
  },
  {
   "cell_type": "code",
   "execution_count": 3,
   "id": "6e1ec35f-88bf-44ff-a42d-3409e248b31d",
   "metadata": {},
   "outputs": [
    {
     "data": {
      "text/plain": [
       "numpy.float64"
      ]
     },
     "execution_count": 3,
     "metadata": {},
     "output_type": "execute_result"
    }
   ],
   "source": [
    "# NumPy的数据类类型是ndarray\n",
    "# ndarray中的数据必须是同一类型, 在生成ndarray时会对list中的类型进行强制转换为同一类型\n",
    "import numpy as np\n",
    "np_a = np.array([0, 2, 4, 6, 8, 10, 12, 1.5])\n",
    "type(np_a[1])"
   ]
  },
  {
   "cell_type": "code",
   "execution_count": 4,
   "id": "5617cc4f-804d-446a-9ad2-6ee3007b6ac7",
   "metadata": {},
   "outputs": [
    {
     "name": "stdout",
     "output_type": "stream",
     "text": [
      "1:\n",
      " [0. 2. 4. 6. 8.]\n",
      "2:\n",
      " [2. 6.]\n",
      "3:\n",
      " []\n",
      "4:\n",
      " [10.  8.  6.  4.]\n",
      "5:\n",
      " [10.  6.]\n",
      "6:\n",
      " [12.  8.  4.]\n"
     ]
    }
   ],
   "source": [
    "# 注意取范围是前闭后开\n",
    "# -1代表最后一个数, -2代表倒数第二个数\n",
    "print(\"1:\\n {}\".format( np_a[:5] )) # 默认为a[0:5]\n",
    "print(\"2:\\n {}\".format( np_a[1:5:2] )) # 2代表步长\n",
    "print(\"3:\\n {}\".format( np_a[1:5:-1] )) # 步长为负代表倒序, 即从右到左取, 而1:5又指定了从左到右, 此时矛盾, 故取不到任何值\n",
    "print(\"4:\\n {}\".format( np_a[5:1:-1] )) # 步长为负代表倒序, 即从右到左取\n",
    "print(\"5:\\n {}\".format( np_a[5:1:-2] )) # 倒序, 步长为2\n",
    "print(\"6:\\n {}\".format( np_a[-2:1:-2] )) # 从倒数第二个数开始取"
   ]
  },
  {
   "cell_type": "code",
   "execution_count": 5,
   "id": "819758fb-6409-4969-9e29-dacb3dd97909",
   "metadata": {},
   "outputs": [
    {
     "name": "stdout",
     "output_type": "stream",
     "text": [
      "1:\n",
      " [6. 8. 0.]\n"
     ]
    }
   ],
   "source": [
    "# 花式索引\n",
    "print(\"1:\\n {}\".format( np_a[[3, 4, 0]])) # 传递了一个list进行索引, 列表中的元素都是list的下标"
   ]
  },
  {
   "cell_type": "code",
   "execution_count": 34,
   "id": "9669db73-cf35-4603-b3d8-78d46a660c35",
   "metadata": {},
   "outputs": [
    {
     "name": "stdout",
     "output_type": "stream",
     "text": [
      "1:\n",
      " [ 0  1  2  3  4  5  6  7  8  9 10 11 12 13 14 15 16 17 18 19 20 21 22 23\n",
      " 24 25 26 27 28 29 30 31 32 33 34 35 36 37 38 39 40 41 42 43 44 45 46 47\n",
      " 48 49 50 51 52 53 54 55 56 57 58 59]\n",
      "2:\n",
      " [[ 0  1  2  3  4  5  6  7  8  9]\n",
      " [10 11 12 13 14 15 16 17 18 19]\n",
      " [20 21 22 23 24 25 26 27 28 29]\n",
      " [30 31 32 33 34 35 36 37 38 39]\n",
      " [40 41 42 43 44 45 46 47 48 49]\n",
      " [50 51 52 53 54 55 56 57 58 59]]\n",
      "3:\n",
      " [10 11 12 13 14 15 16 17 18 19]\n",
      "4:\n",
      " 12\n",
      "5:\n",
      " [ 2 12 22 32 42 52]\n",
      "6:\n",
      " [ 2 22 42]\n",
      "7:\n",
      " [13 24]\n",
      "8:\n",
      " [[10 11 12 13 14 15 16 17 18 19]\n",
      " [20 21 22 23 24 25 26 27 28 29]\n",
      " [30 31 32 33 34 35 36 37 38 39]]\n",
      "9:\n",
      " [[ 1  2  3]\n",
      " [11 12 13]\n",
      " [21 22 23]\n",
      " [31 32 33]\n",
      " [41 42 43]\n",
      " [51 52 53]]\n",
      "10:\n",
      " [[13 14]\n",
      " [23 24]]\n"
     ]
    }
   ],
   "source": [
    "np_b = np.arange(60)\n",
    "print(\"1:\\n {}\".format( np_b ))\n",
    "np_b = np_b.reshape(6, 10)\n",
    "print(\"2:\\n {}\".format( np_b ))\n",
    "print(\"3:\\n {}\".format( np_b[1] )) # 取第1行的数据, 等同于np_b[1, :]\n",
    "print(\"4:\\n {}\".format( np_b[1,2] )) # 取出第1行, 第2列的数\n",
    "print(\"5:\\n {}\".format( np_b[:,2] )) # 取出第2列的数据\n",
    "print(\"6:\\n {}\".format( np_b[::2,2] )) # 按步长为2索引全部行, 取出第2列的数据\n",
    "print(\"7:\\n {}\".format( np_b[[1, 2], [3, 4]] )) # 取(1,3)下标和(2,4)下标\n",
    "print(\"8:\\n {}\".format( np_b[[1, 2, 3]] ))  # 取第1, 2, 3行\n",
    "print(\"9:\\n {}\".format( np_b[:,[1, 2, 3]] )) # 取第1, 2, 3列\n",
    "print(\"10:\\n {}\".format( np_b[1:3, 3:5] )) # 取(1,3)下标和(2,4)下标"
   ]
  },
  {
   "cell_type": "code",
   "execution_count": 23,
   "id": "772f4d35-57e2-4c4c-8f70-215693599389",
   "metadata": {},
   "outputs": [
    {
     "name": "stdout",
     "output_type": "stream",
     "text": [
      "1:\n",
      " [ 0  1  2  3  4  5  6  7  8  9 10 11 12 13 14 15 16 17 18 19 20 21 22 23\n",
      " 24 25 26 27 28 29 30 31 32 33 34 35 36 37 38 39 40 41 42 43 44 45 46 47\n",
      " 48 49 50 51 52 53 54 55 56 57 58 59]\n",
      "2:\n",
      " [False False False False False False  True  True  True  True  True  True\n",
      "  True  True  True  True  True  True  True  True  True  True  True  True\n",
      "  True  True  True  True  True  True  True  True  True  True  True  True\n",
      "  True  True  True  True  True  True  True  True  True  True  True  True\n",
      "  True  True  True  True  True  True  True  True  True  True  True  True]\n",
      "3:\n",
      " [ 6  7  8  9 10 11 12 13 14 15 16 17 18 19 20 21 22 23 24 25 26 27 28 29\n",
      " 30 31 32 33 34 35 36 37 38 39 40 41 42 43 44 45 46 47 48 49 50 51 52 53\n",
      " 54 55 56 57 58 59]\n",
      "4:\n",
      " [ 1  3  5  7  9 11 13 15 17 19 21 23 25 27 29 31 33 35 37 39 41 43 45 47\n",
      " 49 51 53 55 57 59]\n"
     ]
    }
   ],
   "source": [
    "np_c = np.arange(60)\n",
    "print(\"1:\\n {}\".format( np_c ))\n",
    "print(\"2:\\n {}\".format( np_c > 5)) # 形状一致, 但布尔值填充的数组\n",
    "print(\"3:\\n {}\".format( np_c[np_c > 5])) # 筛出>5的元素\n",
    "print(\"4:\\n {}\".format( np_c[np_c % 2 == 1])) # 找到所有奇数\n",
    "np_c[np_c < 5] = 0 # 将小于5的值全部赋值为0\n",
    "np_c[np_c < 0] = 0 # 相当于ReLU激活函数"
   ]
  },
  {
   "cell_type": "markdown",
   "id": "0c2d8da8-4763-4d2f-bb2e-35c2952f6ae4",
   "metadata": {},
   "source": [
    "![](./picture/广播机制-1.png)"
   ]
  },
  {
   "cell_type": "code",
   "execution_count": 35,
   "id": "08a7deb4-7c11-4c05-9e7d-130dd134efdb",
   "metadata": {},
   "outputs": [
    {
     "name": "stdout",
     "output_type": "stream",
     "text": [
      "[[ 0  1  2  3]\n",
      " [ 4  5  6  7]\n",
      " [ 8  9 10 11]]\n"
     ]
    },
    {
     "data": {
      "text/plain": [
       "array([[-1, -1, -1, -1],\n",
       "       [ 3,  3,  3,  3],\n",
       "       [ 7,  7,  7,  7]])"
      ]
     },
     "execution_count": 35,
     "metadata": {},
     "output_type": "execute_result"
    }
   ],
   "source": [
    "# 广播机制 - 1\n",
    "import numpy as np\n",
    "a = np.arange(12).reshape(3, 4)\n",
    "\n",
    "print(a)\n",
    "b = np.array([1, 2, 3, 4])\n",
    "a - b"
   ]
  },
  {
   "cell_type": "code",
   "execution_count": 41,
   "id": "af417507-0f7f-4b3e-b05b-ed0181cfed8f",
   "metadata": {},
   "outputs": [
    {
     "name": "stdout",
     "output_type": "stream",
     "text": [
      "[[ 0  1  2  3]\n",
      " [ 4  5  6  7]\n",
      " [ 8  9 10 11]]\n"
     ]
    },
    {
     "ename": "TypeError",
     "evalue": "Field elements must be 2- or 3-tuples, got '5'",
     "output_type": "error",
     "traceback": [
      "\u001b[0;31m---------------------------------------------------------------------------\u001b[0m",
      "\u001b[0;31mTypeError\u001b[0m                                 Traceback (most recent call last)",
      "Cell \u001b[0;32mIn[41], line 6\u001b[0m\n\u001b[1;32m      3\u001b[0m a \u001b[38;5;241m=\u001b[39m np\u001b[38;5;241m.\u001b[39marange(\u001b[38;5;241m12\u001b[39m)\u001b[38;5;241m.\u001b[39mreshape(\u001b[38;5;241m3\u001b[39m, \u001b[38;5;241m4\u001b[39m)\n\u001b[1;32m      5\u001b[0m \u001b[38;5;28mprint\u001b[39m(a)\n\u001b[0;32m----> 6\u001b[0m b \u001b[38;5;241m=\u001b[39m \u001b[43mnp\u001b[49m\u001b[38;5;241;43m.\u001b[39;49m\u001b[43marray\u001b[49m\u001b[43m(\u001b[49m\u001b[43m[\u001b[49m\u001b[38;5;241;43m1\u001b[39;49m\u001b[43m,\u001b[49m\u001b[43m \u001b[49m\u001b[38;5;241;43m2\u001b[39;49m\u001b[43m,\u001b[49m\u001b[43m \u001b[49m\u001b[38;5;241;43m3\u001b[39;49m\u001b[43m,\u001b[49m\u001b[43m \u001b[49m\u001b[38;5;241;43m4\u001b[39;49m\u001b[43m]\u001b[49m\u001b[43m,\u001b[49m\u001b[43m \u001b[49m\u001b[43m[\u001b[49m\u001b[38;5;241;43m5\u001b[39;49m\u001b[43m,\u001b[49m\u001b[43m \u001b[49m\u001b[38;5;241;43m6\u001b[39;49m\u001b[43m,\u001b[49m\u001b[43m \u001b[49m\u001b[38;5;241;43m7\u001b[39;49m\u001b[43m,\u001b[49m\u001b[43m \u001b[49m\u001b[38;5;241;43m8\u001b[39;49m\u001b[43m]\u001b[49m\u001b[43m)\u001b[49m\n\u001b[1;32m      7\u001b[0m a \u001b[38;5;241m-\u001b[39m b \u001b[38;5;66;03m# 不符合广播条件，会报错\u001b[39;00m\n",
      "\u001b[0;31mTypeError\u001b[0m: Field elements must be 2- or 3-tuples, got '5'"
     ]
    }
   ],
   "source": [
    "# 广播机制 - 2\n",
    "import numpy as np\n",
    "a = np.arange(12).reshape(3, 4)\n",
    "\n",
    "print(a)\n",
    "b = np.array([1, 2, 3, 4], [5, 6, 7, 8])\n",
    "a - b # 不符合广播条件，会报错"
   ]
  },
  {
   "attachments": {},
   "cell_type": "markdown",
   "id": "2898a3ea-20c2-4dc7-a6d4-fd40562c91c7",
   "metadata": {},
   "source": [
    "![](./picture/广播机制-2.png)"
   ]
  },
  {
   "cell_type": "code",
   "execution_count": 42,
   "id": "372a422a-769e-4308-a100-a970d192fad0",
   "metadata": {},
   "outputs": [
    {
     "name": "stdout",
     "output_type": "stream",
     "text": [
      "[[ 0  1  2  3]\n",
      " [ 4  5  6  7]\n",
      " [ 8  9 10 11]]\n"
     ]
    },
    {
     "data": {
      "text/plain": [
       "array([[-1,  0,  1,  2],\n",
       "       [ 2,  3,  4,  5],\n",
       "       [ 5,  6,  7,  8]])"
      ]
     },
     "execution_count": 42,
     "metadata": {},
     "output_type": "execute_result"
    }
   ],
   "source": [
    "# 广播机制 - 3\n",
    "import numpy as np\n",
    "a = np.arange(12).reshape(3, 4)\n",
    "\n",
    "print(a)\n",
    "b = np.array([1, 2, 3]).reshape(3, 1)\n",
    "a - b"
   ]
  },
  {
   "cell_type": "code",
   "execution_count": 53,
   "id": "f13f5d16-0c5c-4327-9aa0-246139adcd5a",
   "metadata": {},
   "outputs": [
    {
     "name": "stdout",
     "output_type": "stream",
     "text": [
      "[[[[  0   1   2   3   4   5]\n",
      "   [  6   7   8   9  10  11]\n",
      "   [ 12  13  14  15  16  17]\n",
      "   [ 18  19  20  21  22  23]\n",
      "   [ 24  25  26  27  28  29]]\n",
      "\n",
      "  [[ 30  31  32  33  34  35]\n",
      "   [ 36  37  38  39  40  41]\n",
      "   [ 42  43  44  45  46  47]\n",
      "   [ 48  49  50  51  52  53]\n",
      "   [ 54  55  56  57  58  59]]\n",
      "\n",
      "  [[ 60  61  62  63  64  65]\n",
      "   [ 66  67  68  69  70  71]\n",
      "   [ 72  73  74  75  76  77]\n",
      "   [ 78  79  80  81  82  83]\n",
      "   [ 84  85  86  87  88  89]]\n",
      "\n",
      "  [[ 90  91  92  93  94  95]\n",
      "   [ 96  97  98  99 100 101]\n",
      "   [102 103 104 105 106 107]\n",
      "   [108 109 110 111 112 113]\n",
      "   [114 115 116 117 118 119]]]\n",
      "\n",
      "\n",
      " [[[120 121 122 123 124 125]\n",
      "   [126 127 128 129 130 131]\n",
      "   [132 133 134 135 136 137]\n",
      "   [138 139 140 141 142 143]\n",
      "   [144 145 146 147 148 149]]\n",
      "\n",
      "  [[150 151 152 153 154 155]\n",
      "   [156 157 158 159 160 161]\n",
      "   [162 163 164 165 166 167]\n",
      "   [168 169 170 171 172 173]\n",
      "   [174 175 176 177 178 179]]\n",
      "\n",
      "  [[180 181 182 183 184 185]\n",
      "   [186 187 188 189 190 191]\n",
      "   [192 193 194 195 196 197]\n",
      "   [198 199 200 201 202 203]\n",
      "   [204 205 206 207 208 209]]\n",
      "\n",
      "  [[210 211 212 213 214 215]\n",
      "   [216 217 218 219 220 221]\n",
      "   [222 223 224 225 226 227]\n",
      "   [228 229 230 231 232 233]\n",
      "   [234 235 236 237 238 239]]]\n",
      "\n",
      "\n",
      " [[[240 241 242 243 244 245]\n",
      "   [246 247 248 249 250 251]\n",
      "   [252 253 254 255 256 257]\n",
      "   [258 259 260 261 262 263]\n",
      "   [264 265 266 267 268 269]]\n",
      "\n",
      "  [[270 271 272 273 274 275]\n",
      "   [276 277 278 279 280 281]\n",
      "   [282 283 284 285 286 287]\n",
      "   [288 289 290 291 292 293]\n",
      "   [294 295 296 297 298 299]]\n",
      "\n",
      "  [[300 301 302 303 304 305]\n",
      "   [306 307 308 309 310 311]\n",
      "   [312 313 314 315 316 317]\n",
      "   [318 319 320 321 322 323]\n",
      "   [324 325 326 327 328 329]]\n",
      "\n",
      "  [[330 331 332 333 334 335]\n",
      "   [336 337 338 339 340 341]\n",
      "   [342 343 344 345 346 347]\n",
      "   [348 349 350 351 352 353]\n",
      "   [354 355 356 357 358 359]]]]\n"
     ]
    },
    {
     "ename": "ValueError",
     "evalue": "operands could not be broadcast together with shapes (3,4,5,6) (5,) ",
     "output_type": "error",
     "traceback": [
      "\u001b[0;31m---------------------------------------------------------------------------\u001b[0m",
      "\u001b[0;31mValueError\u001b[0m                                Traceback (most recent call last)",
      "Cell \u001b[0;32mIn[53], line 13\u001b[0m\n\u001b[1;32m     10\u001b[0m a \u001b[38;5;241m-\u001b[39m b \u001b[38;5;66;03m# 能广播\u001b[39;00m\n\u001b[1;32m     12\u001b[0m b \u001b[38;5;241m=\u001b[39m np\u001b[38;5;241m.\u001b[39mones(\u001b[38;5;241m5\u001b[39m)\n\u001b[0;32m---> 13\u001b[0m \u001b[43ma\u001b[49m\u001b[43m \u001b[49m\u001b[38;5;241;43m-\u001b[39;49m\u001b[43m \u001b[49m\u001b[43mb\u001b[49m \u001b[38;5;66;03m# 不能广播\u001b[39;00m\n",
      "\u001b[0;31mValueError\u001b[0m: operands could not be broadcast together with shapes (3,4,5,6) (5,) "
     ]
    }
   ],
   "source": [
    "# 两种情况可以广播:\n",
    "# (1) 后元维度 轴长 相符 \n",
    "# (2) 维度相同, 但某些轴长为1\n",
    "\n",
    "\n",
    "# (1) 后元维度轴长相符合即可广播\n",
    "import numpy as np\n",
    "a = np.arange(360).reshape(3, 4, 5, 6)\n",
    "\n",
    "print(a)\n",
    "b = np.ones(6)\n",
    "a - b # 能广播\n",
    "\n",
    "b = np.ones((5, 6))\n",
    "a - b # 能广播\n",
    "\n",
    "b = np.ones(5)\n",
    "a - b # 不能广播\n"
   ]
  },
  {
   "cell_type": "code",
   "execution_count": 58,
   "id": "8c57abd8-18d4-4eca-951e-75884135380a",
   "metadata": {},
   "outputs": [
    {
     "name": "stdout",
     "output_type": "stream",
     "text": [
      "[[[[  0   1   2   3   4   5]\n",
      "   [  6   7   8   9  10  11]\n",
      "   [ 12  13  14  15  16  17]\n",
      "   [ 18  19  20  21  22  23]\n",
      "   [ 24  25  26  27  28  29]]\n",
      "\n",
      "  [[ 30  31  32  33  34  35]\n",
      "   [ 36  37  38  39  40  41]\n",
      "   [ 42  43  44  45  46  47]\n",
      "   [ 48  49  50  51  52  53]\n",
      "   [ 54  55  56  57  58  59]]\n",
      "\n",
      "  [[ 60  61  62  63  64  65]\n",
      "   [ 66  67  68  69  70  71]\n",
      "   [ 72  73  74  75  76  77]\n",
      "   [ 78  79  80  81  82  83]\n",
      "   [ 84  85  86  87  88  89]]\n",
      "\n",
      "  [[ 90  91  92  93  94  95]\n",
      "   [ 96  97  98  99 100 101]\n",
      "   [102 103 104 105 106 107]\n",
      "   [108 109 110 111 112 113]\n",
      "   [114 115 116 117 118 119]]]\n",
      "\n",
      "\n",
      " [[[120 121 122 123 124 125]\n",
      "   [126 127 128 129 130 131]\n",
      "   [132 133 134 135 136 137]\n",
      "   [138 139 140 141 142 143]\n",
      "   [144 145 146 147 148 149]]\n",
      "\n",
      "  [[150 151 152 153 154 155]\n",
      "   [156 157 158 159 160 161]\n",
      "   [162 163 164 165 166 167]\n",
      "   [168 169 170 171 172 173]\n",
      "   [174 175 176 177 178 179]]\n",
      "\n",
      "  [[180 181 182 183 184 185]\n",
      "   [186 187 188 189 190 191]\n",
      "   [192 193 194 195 196 197]\n",
      "   [198 199 200 201 202 203]\n",
      "   [204 205 206 207 208 209]]\n",
      "\n",
      "  [[210 211 212 213 214 215]\n",
      "   [216 217 218 219 220 221]\n",
      "   [222 223 224 225 226 227]\n",
      "   [228 229 230 231 232 233]\n",
      "   [234 235 236 237 238 239]]]\n",
      "\n",
      "\n",
      " [[[240 241 242 243 244 245]\n",
      "   [246 247 248 249 250 251]\n",
      "   [252 253 254 255 256 257]\n",
      "   [258 259 260 261 262 263]\n",
      "   [264 265 266 267 268 269]]\n",
      "\n",
      "  [[270 271 272 273 274 275]\n",
      "   [276 277 278 279 280 281]\n",
      "   [282 283 284 285 286 287]\n",
      "   [288 289 290 291 292 293]\n",
      "   [294 295 296 297 298 299]]\n",
      "\n",
      "  [[300 301 302 303 304 305]\n",
      "   [306 307 308 309 310 311]\n",
      "   [312 313 314 315 316 317]\n",
      "   [318 319 320 321 322 323]\n",
      "   [324 325 326 327 328 329]]\n",
      "\n",
      "  [[330 331 332 333 334 335]\n",
      "   [336 337 338 339 340 341]\n",
      "   [342 343 344 345 346 347]\n",
      "   [348 349 350 351 352 353]\n",
      "   [354 355 356 357 358 359]]]]\n"
     ]
    },
    {
     "ename": "ValueError",
     "evalue": "operands could not be broadcast together with shapes (3,4,5,6) (3,2,5,6) ",
     "output_type": "error",
     "traceback": [
      "\u001b[0;31m---------------------------------------------------------------------------\u001b[0m",
      "\u001b[0;31mValueError\u001b[0m                                Traceback (most recent call last)",
      "Cell \u001b[0;32mIn[58], line 22\u001b[0m\n\u001b[1;32m     18\u001b[0m a \u001b[38;5;241m-\u001b[39m b \u001b[38;5;66;03m# 能广播\u001b[39;00m\n\u001b[1;32m     21\u001b[0m b \u001b[38;5;241m=\u001b[39m np\u001b[38;5;241m.\u001b[39mones((\u001b[38;5;241m3\u001b[39m, \u001b[38;5;241m2\u001b[39m, \u001b[38;5;241m5\u001b[39m, \u001b[38;5;241m6\u001b[39m))\n\u001b[0;32m---> 22\u001b[0m \u001b[43ma\u001b[49m\u001b[43m \u001b[49m\u001b[38;5;241;43m-\u001b[39;49m\u001b[43m \u001b[49m\u001b[43mb\u001b[49m \u001b[38;5;66;03m# 不能广播\u001b[39;00m\n",
      "\u001b[0;31mValueError\u001b[0m: operands could not be broadcast together with shapes (3,4,5,6) (3,2,5,6) "
     ]
    }
   ],
   "source": [
    "# 两种情况可以广播:\n",
    "# (1) 后元维度轴长相符合\n",
    "# (2) 维度相同, 但有某些轴长为1\n",
    "\n",
    "\n",
    "# (2) 维度相同, 但有某些轴长为1\n",
    "import numpy as np\n",
    "a = np.arange(360).reshape(3, 4, 5, 6)\n",
    "\n",
    "print(a)\n",
    "b = np.ones((1, 4, 5, 6))\n",
    "a - b # 能广播\n",
    "\n",
    "b = np.ones((3, 1, 5, 6))\n",
    "a - b # 能广播\n",
    "\n",
    "b = np.ones((3, 1, 1, 1))\n",
    "a - b # 能广播\n",
    "\n",
    "\n",
    "b = np.ones((3, 2, 5, 6))\n",
    "a - b # 不能广播"
   ]
  },
  {
   "cell_type": "code",
   "execution_count": 59,
   "id": "09241632-d96c-48d1-aaaa-370989c8537f",
   "metadata": {},
   "outputs": [
    {
     "name": "stdout",
     "output_type": "stream",
     "text": [
      "[[ 0  1  2  3]\n",
      " [ 4  5  6  7]\n",
      " [ 8  9 10 11]]\n"
     ]
    },
    {
     "data": {
      "text/plain": [
       "array([[ 0,  4,  8],\n",
       "       [ 1,  5,  9],\n",
       "       [ 2,  6, 10],\n",
       "       [ 3,  7, 11]])"
      ]
     },
     "execution_count": 59,
     "metadata": {},
     "output_type": "execute_result"
    }
   ],
   "source": [
    "# 转置操作\n",
    "import numpy as np\n",
    "a = np.arange(12).reshape(3, 4)\n",
    "print(a)\n",
    "a.T"
   ]
  }
 ],
 "metadata": {
  "kernelspec": {
   "display_name": "Python 3 (ipykernel)",
   "language": "python",
   "name": "python3"
  },
  "language_info": {
   "codemirror_mode": {
    "name": "ipython",
    "version": 3
   },
   "file_extension": ".py",
   "mimetype": "text/x-python",
   "name": "python",
   "nbconvert_exporter": "python",
   "pygments_lexer": "ipython3",
   "version": "3.8.20"
  }
 },
 "nbformat": 4,
 "nbformat_minor": 5
}
